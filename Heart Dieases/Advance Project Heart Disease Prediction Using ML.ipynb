{
 "cells": [
  {
   "cell_type": "markdown",
   "id": "06543aa8",
   "metadata": {
    "id": "UYR1VLvAZ2x8",
    "papermill": {
     "duration": 0.033492,
     "end_time": "2021-06-07T06:02:16.627908",
     "exception": false,
     "start_time": "2021-06-07T06:02:16.594416",
     "status": "completed"
    },
    "tags": []
   },
   "source": [
    "# Heart Disease Prediction"
   ]
  },
  {
   "cell_type": "code",
   "execution_count": 1,
   "id": "adbc3567",
   "metadata": {
    "id": "RCIT6AuzfM-x",
    "papermill": {
     "duration": 0.991776,
     "end_time": "2021-06-07T06:02:17.712492",
     "exception": false,
     "start_time": "2021-06-07T06:02:16.720716",
     "status": "completed"
    },
    "tags": []
   },
   "outputs": [],
   "source": [
    "# importing libraries\n",
    "import numpy as np\n",
    "import pandas as pd\n",
    "import matplotlib.pyplot as plt\n",
    "import seaborn as sns\n",
    "from sklearn.preprocessing import StandardScaler\n",
    "\n",
    "import warnings\n",
    "warnings.filterwarnings('ignore')\n",
    "\n",
    "sns.set()\n",
    "plt.style.use('ggplot')\n",
    "%matplotlib inline"
   ]
  },
  {
   "cell_type": "code",
   "execution_count": 2,
   "id": "8e3052ad",
   "metadata": {},
   "outputs": [
    {
     "data": {
      "text/html": [
       "<div>\n",
       "<style scoped>\n",
       "    .dataframe tbody tr th:only-of-type {\n",
       "        vertical-align: middle;\n",
       "    }\n",
       "\n",
       "    .dataframe tbody tr th {\n",
       "        vertical-align: top;\n",
       "    }\n",
       "\n",
       "    .dataframe thead th {\n",
       "        text-align: right;\n",
       "    }\n",
       "</style>\n",
       "<table border=\"1\" class=\"dataframe\">\n",
       "  <thead>\n",
       "    <tr style=\"text-align: right;\">\n",
       "      <th></th>\n",
       "      <th>age</th>\n",
       "      <th>sex</th>\n",
       "      <th>cp</th>\n",
       "      <th>trestbps</th>\n",
       "      <th>chol</th>\n",
       "      <th>fbs</th>\n",
       "      <th>restecg</th>\n",
       "      <th>thalach</th>\n",
       "      <th>exang</th>\n",
       "      <th>oldpeak</th>\n",
       "      <th>slope</th>\n",
       "      <th>ca</th>\n",
       "      <th>thal</th>\n",
       "      <th>target</th>\n",
       "    </tr>\n",
       "  </thead>\n",
       "  <tbody>\n",
       "    <tr>\n",
       "      <th>0</th>\n",
       "      <td>63</td>\n",
       "      <td>1</td>\n",
       "      <td>3</td>\n",
       "      <td>145</td>\n",
       "      <td>233</td>\n",
       "      <td>1</td>\n",
       "      <td>0</td>\n",
       "      <td>150</td>\n",
       "      <td>0</td>\n",
       "      <td>2.3</td>\n",
       "      <td>0</td>\n",
       "      <td>0</td>\n",
       "      <td>1</td>\n",
       "      <td>1</td>\n",
       "    </tr>\n",
       "    <tr>\n",
       "      <th>1</th>\n",
       "      <td>37</td>\n",
       "      <td>1</td>\n",
       "      <td>2</td>\n",
       "      <td>130</td>\n",
       "      <td>250</td>\n",
       "      <td>0</td>\n",
       "      <td>1</td>\n",
       "      <td>187</td>\n",
       "      <td>0</td>\n",
       "      <td>3.5</td>\n",
       "      <td>0</td>\n",
       "      <td>0</td>\n",
       "      <td>2</td>\n",
       "      <td>1</td>\n",
       "    </tr>\n",
       "    <tr>\n",
       "      <th>2</th>\n",
       "      <td>41</td>\n",
       "      <td>0</td>\n",
       "      <td>1</td>\n",
       "      <td>130</td>\n",
       "      <td>204</td>\n",
       "      <td>0</td>\n",
       "      <td>0</td>\n",
       "      <td>172</td>\n",
       "      <td>0</td>\n",
       "      <td>1.4</td>\n",
       "      <td>2</td>\n",
       "      <td>0</td>\n",
       "      <td>2</td>\n",
       "      <td>1</td>\n",
       "    </tr>\n",
       "    <tr>\n",
       "      <th>3</th>\n",
       "      <td>56</td>\n",
       "      <td>1</td>\n",
       "      <td>1</td>\n",
       "      <td>120</td>\n",
       "      <td>236</td>\n",
       "      <td>0</td>\n",
       "      <td>1</td>\n",
       "      <td>178</td>\n",
       "      <td>0</td>\n",
       "      <td>0.8</td>\n",
       "      <td>2</td>\n",
       "      <td>0</td>\n",
       "      <td>2</td>\n",
       "      <td>1</td>\n",
       "    </tr>\n",
       "    <tr>\n",
       "      <th>4</th>\n",
       "      <td>57</td>\n",
       "      <td>0</td>\n",
       "      <td>0</td>\n",
       "      <td>120</td>\n",
       "      <td>354</td>\n",
       "      <td>0</td>\n",
       "      <td>1</td>\n",
       "      <td>163</td>\n",
       "      <td>1</td>\n",
       "      <td>0.6</td>\n",
       "      <td>2</td>\n",
       "      <td>0</td>\n",
       "      <td>2</td>\n",
       "      <td>1</td>\n",
       "    </tr>\n",
       "    <tr>\n",
       "      <th>5</th>\n",
       "      <td>57</td>\n",
       "      <td>1</td>\n",
       "      <td>0</td>\n",
       "      <td>140</td>\n",
       "      <td>192</td>\n",
       "      <td>0</td>\n",
       "      <td>1</td>\n",
       "      <td>148</td>\n",
       "      <td>0</td>\n",
       "      <td>0.4</td>\n",
       "      <td>1</td>\n",
       "      <td>0</td>\n",
       "      <td>1</td>\n",
       "      <td>1</td>\n",
       "    </tr>\n",
       "    <tr>\n",
       "      <th>6</th>\n",
       "      <td>56</td>\n",
       "      <td>0</td>\n",
       "      <td>1</td>\n",
       "      <td>140</td>\n",
       "      <td>294</td>\n",
       "      <td>0</td>\n",
       "      <td>0</td>\n",
       "      <td>153</td>\n",
       "      <td>0</td>\n",
       "      <td>1.3</td>\n",
       "      <td>1</td>\n",
       "      <td>0</td>\n",
       "      <td>2</td>\n",
       "      <td>1</td>\n",
       "    </tr>\n",
       "    <tr>\n",
       "      <th>7</th>\n",
       "      <td>44</td>\n",
       "      <td>1</td>\n",
       "      <td>1</td>\n",
       "      <td>120</td>\n",
       "      <td>263</td>\n",
       "      <td>0</td>\n",
       "      <td>1</td>\n",
       "      <td>173</td>\n",
       "      <td>0</td>\n",
       "      <td>0.0</td>\n",
       "      <td>2</td>\n",
       "      <td>0</td>\n",
       "      <td>3</td>\n",
       "      <td>1</td>\n",
       "    </tr>\n",
       "    <tr>\n",
       "      <th>8</th>\n",
       "      <td>52</td>\n",
       "      <td>1</td>\n",
       "      <td>2</td>\n",
       "      <td>172</td>\n",
       "      <td>199</td>\n",
       "      <td>1</td>\n",
       "      <td>1</td>\n",
       "      <td>162</td>\n",
       "      <td>0</td>\n",
       "      <td>0.5</td>\n",
       "      <td>2</td>\n",
       "      <td>0</td>\n",
       "      <td>3</td>\n",
       "      <td>1</td>\n",
       "    </tr>\n",
       "    <tr>\n",
       "      <th>9</th>\n",
       "      <td>57</td>\n",
       "      <td>1</td>\n",
       "      <td>2</td>\n",
       "      <td>150</td>\n",
       "      <td>168</td>\n",
       "      <td>0</td>\n",
       "      <td>1</td>\n",
       "      <td>174</td>\n",
       "      <td>0</td>\n",
       "      <td>1.6</td>\n",
       "      <td>2</td>\n",
       "      <td>0</td>\n",
       "      <td>2</td>\n",
       "      <td>1</td>\n",
       "    </tr>\n",
       "  </tbody>\n",
       "</table>\n",
       "</div>"
      ],
      "text/plain": [
       "   age  sex  cp  trestbps  chol  fbs  restecg  thalach  exang  oldpeak  slope  \\\n",
       "0   63    1   3       145   233    1        0      150      0      2.3      0   \n",
       "1   37    1   2       130   250    0        1      187      0      3.5      0   \n",
       "2   41    0   1       130   204    0        0      172      0      1.4      2   \n",
       "3   56    1   1       120   236    0        1      178      0      0.8      2   \n",
       "4   57    0   0       120   354    0        1      163      1      0.6      2   \n",
       "5   57    1   0       140   192    0        1      148      0      0.4      1   \n",
       "6   56    0   1       140   294    0        0      153      0      1.3      1   \n",
       "7   44    1   1       120   263    0        1      173      0      0.0      2   \n",
       "8   52    1   2       172   199    1        1      162      0      0.5      2   \n",
       "9   57    1   2       150   168    0        1      174      0      1.6      2   \n",
       "\n",
       "   ca  thal  target  \n",
       "0   0     1       1  \n",
       "1   0     2       1  \n",
       "2   0     2       1  \n",
       "3   0     2       1  \n",
       "4   0     2       1  \n",
       "5   0     1       1  \n",
       "6   0     2       1  \n",
       "7   0     3       1  \n",
       "8   0     3       1  \n",
       "9   0     2       1  "
      ]
     },
     "execution_count": 2,
     "metadata": {},
     "output_type": "execute_result"
    }
   ],
   "source": [
    "#import dataset\n",
    "heart_df = pd.read_csv('heart.csv')       \n",
    "heart_df.head(10)"
   ]
  },
  {
   "cell_type": "code",
   "execution_count": 3,
   "id": "745396d4",
   "metadata": {
    "id": "pAHhPbLKpeWV",
    "outputId": "0ce0a47d-2ce9-46e5-d57e-d416fd75494e",
    "papermill": {
     "duration": 0.057736,
     "end_time": "2021-06-07T06:02:17.915794",
     "exception": false,
     "start_time": "2021-06-07T06:02:17.858058",
     "status": "completed"
    },
    "tags": []
   },
   "outputs": [
    {
     "name": "stdout",
     "output_type": "stream",
     "text": [
      "<class 'pandas.core.frame.DataFrame'>\n",
      "RangeIndex: 303 entries, 0 to 302\n",
      "Data columns (total 14 columns):\n",
      " #   Column    Non-Null Count  Dtype  \n",
      "---  ------    --------------  -----  \n",
      " 0   age       303 non-null    int64  \n",
      " 1   sex       303 non-null    int64  \n",
      " 2   cp        303 non-null    int64  \n",
      " 3   trestbps  303 non-null    int64  \n",
      " 4   chol      303 non-null    int64  \n",
      " 5   fbs       303 non-null    int64  \n",
      " 6   restecg   303 non-null    int64  \n",
      " 7   thalach   303 non-null    int64  \n",
      " 8   exang     303 non-null    int64  \n",
      " 9   oldpeak   303 non-null    float64\n",
      " 10  slope     303 non-null    int64  \n",
      " 11  ca        303 non-null    int64  \n",
      " 12  thal      303 non-null    int64  \n",
      " 13  target    303 non-null    int64  \n",
      "dtypes: float64(1), int64(13)\n",
      "memory usage: 33.3 KB\n"
     ]
    }
   ],
   "source": [
    "# information about the dataset\n",
    "heart_df.info()     "
   ]
  },
  {
   "cell_type": "code",
   "execution_count": 4,
   "id": "32c558d9",
   "metadata": {
    "id": "HEnED0P1BRjX",
    "outputId": "89eff37f-ea69-4ad2-fc16-007769c27c96",
    "papermill": {
     "duration": 0.090075,
     "end_time": "2021-06-07T06:02:18.039590",
     "exception": false,
     "start_time": "2021-06-07T06:02:17.949515",
     "status": "completed"
    },
    "tags": []
   },
   "outputs": [
    {
     "data": {
      "text/html": [
       "<div>\n",
       "<style scoped>\n",
       "    .dataframe tbody tr th:only-of-type {\n",
       "        vertical-align: middle;\n",
       "    }\n",
       "\n",
       "    .dataframe tbody tr th {\n",
       "        vertical-align: top;\n",
       "    }\n",
       "\n",
       "    .dataframe thead th {\n",
       "        text-align: right;\n",
       "    }\n",
       "</style>\n",
       "<table border=\"1\" class=\"dataframe\">\n",
       "  <thead>\n",
       "    <tr style=\"text-align: right;\">\n",
       "      <th></th>\n",
       "      <th>age</th>\n",
       "      <th>sex</th>\n",
       "      <th>cp</th>\n",
       "      <th>trestbps</th>\n",
       "      <th>chol</th>\n",
       "      <th>fbs</th>\n",
       "      <th>restecg</th>\n",
       "      <th>thalach</th>\n",
       "      <th>exang</th>\n",
       "      <th>oldpeak</th>\n",
       "      <th>slope</th>\n",
       "      <th>ca</th>\n",
       "      <th>thal</th>\n",
       "      <th>target</th>\n",
       "    </tr>\n",
       "  </thead>\n",
       "  <tbody>\n",
       "    <tr>\n",
       "      <th>count</th>\n",
       "      <td>303.000000</td>\n",
       "      <td>303.000000</td>\n",
       "      <td>303.000000</td>\n",
       "      <td>303.000000</td>\n",
       "      <td>303.000000</td>\n",
       "      <td>303.000000</td>\n",
       "      <td>303.000000</td>\n",
       "      <td>303.000000</td>\n",
       "      <td>303.000000</td>\n",
       "      <td>303.000000</td>\n",
       "      <td>303.000000</td>\n",
       "      <td>303.000000</td>\n",
       "      <td>303.000000</td>\n",
       "      <td>303.000000</td>\n",
       "    </tr>\n",
       "    <tr>\n",
       "      <th>mean</th>\n",
       "      <td>54.366337</td>\n",
       "      <td>0.683168</td>\n",
       "      <td>0.966997</td>\n",
       "      <td>131.623762</td>\n",
       "      <td>246.264026</td>\n",
       "      <td>0.148515</td>\n",
       "      <td>0.528053</td>\n",
       "      <td>149.646865</td>\n",
       "      <td>0.326733</td>\n",
       "      <td>1.039604</td>\n",
       "      <td>1.399340</td>\n",
       "      <td>0.729373</td>\n",
       "      <td>2.313531</td>\n",
       "      <td>0.544554</td>\n",
       "    </tr>\n",
       "    <tr>\n",
       "      <th>std</th>\n",
       "      <td>9.082101</td>\n",
       "      <td>0.466011</td>\n",
       "      <td>1.032052</td>\n",
       "      <td>17.538143</td>\n",
       "      <td>51.830751</td>\n",
       "      <td>0.356198</td>\n",
       "      <td>0.525860</td>\n",
       "      <td>22.905161</td>\n",
       "      <td>0.469794</td>\n",
       "      <td>1.161075</td>\n",
       "      <td>0.616226</td>\n",
       "      <td>1.022606</td>\n",
       "      <td>0.612277</td>\n",
       "      <td>0.498835</td>\n",
       "    </tr>\n",
       "    <tr>\n",
       "      <th>min</th>\n",
       "      <td>29.000000</td>\n",
       "      <td>0.000000</td>\n",
       "      <td>0.000000</td>\n",
       "      <td>94.000000</td>\n",
       "      <td>126.000000</td>\n",
       "      <td>0.000000</td>\n",
       "      <td>0.000000</td>\n",
       "      <td>71.000000</td>\n",
       "      <td>0.000000</td>\n",
       "      <td>0.000000</td>\n",
       "      <td>0.000000</td>\n",
       "      <td>0.000000</td>\n",
       "      <td>0.000000</td>\n",
       "      <td>0.000000</td>\n",
       "    </tr>\n",
       "    <tr>\n",
       "      <th>25%</th>\n",
       "      <td>47.500000</td>\n",
       "      <td>0.000000</td>\n",
       "      <td>0.000000</td>\n",
       "      <td>120.000000</td>\n",
       "      <td>211.000000</td>\n",
       "      <td>0.000000</td>\n",
       "      <td>0.000000</td>\n",
       "      <td>133.500000</td>\n",
       "      <td>0.000000</td>\n",
       "      <td>0.000000</td>\n",
       "      <td>1.000000</td>\n",
       "      <td>0.000000</td>\n",
       "      <td>2.000000</td>\n",
       "      <td>0.000000</td>\n",
       "    </tr>\n",
       "    <tr>\n",
       "      <th>50%</th>\n",
       "      <td>55.000000</td>\n",
       "      <td>1.000000</td>\n",
       "      <td>1.000000</td>\n",
       "      <td>130.000000</td>\n",
       "      <td>240.000000</td>\n",
       "      <td>0.000000</td>\n",
       "      <td>1.000000</td>\n",
       "      <td>153.000000</td>\n",
       "      <td>0.000000</td>\n",
       "      <td>0.800000</td>\n",
       "      <td>1.000000</td>\n",
       "      <td>0.000000</td>\n",
       "      <td>2.000000</td>\n",
       "      <td>1.000000</td>\n",
       "    </tr>\n",
       "    <tr>\n",
       "      <th>75%</th>\n",
       "      <td>61.000000</td>\n",
       "      <td>1.000000</td>\n",
       "      <td>2.000000</td>\n",
       "      <td>140.000000</td>\n",
       "      <td>274.500000</td>\n",
       "      <td>0.000000</td>\n",
       "      <td>1.000000</td>\n",
       "      <td>166.000000</td>\n",
       "      <td>1.000000</td>\n",
       "      <td>1.600000</td>\n",
       "      <td>2.000000</td>\n",
       "      <td>1.000000</td>\n",
       "      <td>3.000000</td>\n",
       "      <td>1.000000</td>\n",
       "    </tr>\n",
       "    <tr>\n",
       "      <th>max</th>\n",
       "      <td>77.000000</td>\n",
       "      <td>1.000000</td>\n",
       "      <td>3.000000</td>\n",
       "      <td>200.000000</td>\n",
       "      <td>564.000000</td>\n",
       "      <td>1.000000</td>\n",
       "      <td>2.000000</td>\n",
       "      <td>202.000000</td>\n",
       "      <td>1.000000</td>\n",
       "      <td>6.200000</td>\n",
       "      <td>2.000000</td>\n",
       "      <td>4.000000</td>\n",
       "      <td>3.000000</td>\n",
       "      <td>1.000000</td>\n",
       "    </tr>\n",
       "  </tbody>\n",
       "</table>\n",
       "</div>"
      ],
      "text/plain": [
       "              age         sex          cp    trestbps        chol         fbs  \\\n",
       "count  303.000000  303.000000  303.000000  303.000000  303.000000  303.000000   \n",
       "mean    54.366337    0.683168    0.966997  131.623762  246.264026    0.148515   \n",
       "std      9.082101    0.466011    1.032052   17.538143   51.830751    0.356198   \n",
       "min     29.000000    0.000000    0.000000   94.000000  126.000000    0.000000   \n",
       "25%     47.500000    0.000000    0.000000  120.000000  211.000000    0.000000   \n",
       "50%     55.000000    1.000000    1.000000  130.000000  240.000000    0.000000   \n",
       "75%     61.000000    1.000000    2.000000  140.000000  274.500000    0.000000   \n",
       "max     77.000000    1.000000    3.000000  200.000000  564.000000    1.000000   \n",
       "\n",
       "          restecg     thalach       exang     oldpeak       slope          ca  \\\n",
       "count  303.000000  303.000000  303.000000  303.000000  303.000000  303.000000   \n",
       "mean     0.528053  149.646865    0.326733    1.039604    1.399340    0.729373   \n",
       "std      0.525860   22.905161    0.469794    1.161075    0.616226    1.022606   \n",
       "min      0.000000   71.000000    0.000000    0.000000    0.000000    0.000000   \n",
       "25%      0.000000  133.500000    0.000000    0.000000    1.000000    0.000000   \n",
       "50%      1.000000  153.000000    0.000000    0.800000    1.000000    0.000000   \n",
       "75%      1.000000  166.000000    1.000000    1.600000    2.000000    1.000000   \n",
       "max      2.000000  202.000000    1.000000    6.200000    2.000000    4.000000   \n",
       "\n",
       "             thal      target  \n",
       "count  303.000000  303.000000  \n",
       "mean     2.313531    0.544554  \n",
       "std      0.612277    0.498835  \n",
       "min      0.000000    0.000000  \n",
       "25%      2.000000    0.000000  \n",
       "50%      2.000000    1.000000  \n",
       "75%      3.000000    1.000000  \n",
       "max      3.000000    1.000000  "
      ]
     },
     "execution_count": 4,
     "metadata": {},
     "output_type": "execute_result"
    }
   ],
   "source": [
    "#description about dataset\n",
    "heart_df.describe()"
   ]
  },
  {
   "cell_type": "code",
   "execution_count": 5,
   "id": "0b3e00f6",
   "metadata": {
    "id": "npREqP70BX4V",
    "outputId": "2e209e82-fd3a-4ef5-8581-9480996f64ba",
    "papermill": {
     "duration": 0.042881,
     "end_time": "2021-06-07T06:02:18.116542",
     "exception": false,
     "start_time": "2021-06-07T06:02:18.073661",
     "status": "completed"
    },
    "tags": []
   },
   "outputs": [
    {
     "data": {
      "text/plain": [
       "(303, 14)"
      ]
     },
     "execution_count": 5,
     "metadata": {},
     "output_type": "execute_result"
    }
   ],
   "source": [
    "heart_df.shape"
   ]
  },
  {
   "cell_type": "markdown",
   "id": "a2cb1a2d",
   "metadata": {
    "id": "_hiqJ-XoXE3y",
    "papermill": {
     "duration": 0.033139,
     "end_time": "2021-06-07T06:02:18.183186",
     "exception": false,
     "start_time": "2021-06-07T06:02:18.150047",
     "status": "completed"
    },
    "tags": []
   },
   "source": [
    "# Checking null values"
   ]
  },
  {
   "cell_type": "code",
   "execution_count": 6,
   "id": "ae9f528d",
   "metadata": {
    "id": "fjl70pn2BguP",
    "outputId": "29f7e878-cf74-4f54-9f5a-fe84cbcd1778",
    "papermill": {
     "duration": 0.044346,
     "end_time": "2021-06-07T06:02:18.261041",
     "exception": false,
     "start_time": "2021-06-07T06:02:18.216695",
     "status": "completed"
    },
    "tags": []
   },
   "outputs": [
    {
     "data": {
      "text/plain": [
       "age         0\n",
       "sex         0\n",
       "cp          0\n",
       "trestbps    0\n",
       "chol        0\n",
       "fbs         0\n",
       "restecg     0\n",
       "thalach     0\n",
       "exang       0\n",
       "oldpeak     0\n",
       "slope       0\n",
       "ca          0\n",
       "thal        0\n",
       "target      0\n",
       "dtype: int64"
      ]
     },
     "execution_count": 6,
     "metadata": {},
     "output_type": "execute_result"
    }
   ],
   "source": [
    "heart_df.isnull().sum()"
   ]
  },
  {
   "cell_type": "code",
   "execution_count": 7,
   "id": "a53de820",
   "metadata": {
    "id": "eYccdlEVBlqh",
    "outputId": "cc447527-e21b-487d-fd1e-4543ef16d497",
    "papermill": {
     "duration": 0.047214,
     "end_time": "2021-06-07T06:02:18.342325",
     "exception": false,
     "start_time": "2021-06-07T06:02:18.295111",
     "status": "completed"
    },
    "tags": []
   },
   "outputs": [
    {
     "data": {
      "text/plain": [
       "age         303\n",
       "sex         303\n",
       "cp          303\n",
       "trestbps    303\n",
       "chol        303\n",
       "fbs         303\n",
       "restecg     303\n",
       "thalach     303\n",
       "exang       303\n",
       "oldpeak     303\n",
       "slope       303\n",
       "ca          303\n",
       "thal        303\n",
       "target      303\n",
       "dtype: int64"
      ]
     },
     "execution_count": 7,
     "metadata": {},
     "output_type": "execute_result"
    }
   ],
   "source": [
    "heart_df.notnull().sum()"
   ]
  },
  {
   "cell_type": "code",
   "execution_count": 8,
   "id": "df955528",
   "metadata": {
    "id": "wCsCYKPXGwaV",
    "outputId": "172f283b-97ba-4a78-dc55-2e2e331adfdc",
    "papermill": {
     "duration": 0.044779,
     "end_time": "2021-06-07T06:02:18.421782",
     "exception": false,
     "start_time": "2021-06-07T06:02:18.377003",
     "status": "completed"
    },
    "tags": []
   },
   "outputs": [
    {
     "data": {
      "text/plain": [
       "age           int64\n",
       "sex           int64\n",
       "cp            int64\n",
       "trestbps      int64\n",
       "chol          int64\n",
       "fbs           int64\n",
       "restecg       int64\n",
       "thalach       int64\n",
       "exang         int64\n",
       "oldpeak     float64\n",
       "slope         int64\n",
       "ca            int64\n",
       "thal          int64\n",
       "target        int64\n",
       "dtype: object"
      ]
     },
     "execution_count": 8,
     "metadata": {},
     "output_type": "execute_result"
    }
   ],
   "source": [
    "heart_df.dtypes"
   ]
  },
  {
   "cell_type": "markdown",
   "id": "a4e0e73c",
   "metadata": {
    "id": "89vGXr-MXKWD",
    "papermill": {
     "duration": 0.044725,
     "end_time": "2021-06-07T06:02:18.508538",
     "exception": false,
     "start_time": "2021-06-07T06:02:18.463813",
     "status": "completed"
    },
    "tags": []
   },
   "source": [
    "# Exploratory Data Analysis(EDA)"
   ]
  },
  {
   "cell_type": "code",
   "execution_count": 9,
   "id": "d722f389",
   "metadata": {
    "id": "s8XG7G9EBdu8",
    "outputId": "54aad3a3-4f17-4ea0-83aa-da9197ac95f6",
    "papermill": {
     "duration": 0.056102,
     "end_time": "2021-06-07T06:02:22.648610",
     "exception": false,
     "start_time": "2021-06-07T06:02:22.592508",
     "status": "completed"
    },
    "tags": []
   },
   "outputs": [
    {
     "data": {
      "text/plain": [
       "age           82.484558\n",
       "sex            0.217166\n",
       "cp             1.065132\n",
       "trestbps     307.586453\n",
       "chol        2686.426748\n",
       "fbs            0.126877\n",
       "restecg        0.276528\n",
       "thalach      524.646406\n",
       "exang          0.220707\n",
       "oldpeak        1.348095\n",
       "slope          0.379735\n",
       "ca             1.045724\n",
       "thal           0.374883\n",
       "target         0.248836\n",
       "dtype: float64"
      ]
     },
     "execution_count": 9,
     "metadata": {},
     "output_type": "execute_result"
    }
   ],
   "source": [
    "#checking the variance\n",
    "heart_df.var()"
   ]
  },
  {
   "cell_type": "markdown",
   "id": "921258b9",
   "metadata": {
    "papermill": {
     "duration": 0.042867,
     "end_time": "2021-06-07T06:02:22.734994",
     "exception": false,
     "start_time": "2021-06-07T06:02:22.692127",
     "status": "completed"
    },
    "tags": []
   },
   "source": [
    "We can see ,there is a huge variance.So,we should normalise it."
   ]
  },
  {
   "cell_type": "markdown",
   "id": "1b6c3d5a",
   "metadata": {
    "id": "ZheHxyrtXU1L",
    "papermill": {
     "duration": 0.042954,
     "end_time": "2021-06-07T06:02:22.821835",
     "exception": false,
     "start_time": "2021-06-07T06:02:22.778881",
     "status": "completed"
    },
    "tags": []
   },
   "source": [
    "# Normalization"
   ]
  },
  {
   "cell_type": "code",
   "execution_count": 10,
   "id": "1d356544",
   "metadata": {
    "id": "sQajUscDGFSX",
    "outputId": "c8bb5420-8454-4766-e354-8fa16a46138d",
    "papermill": {
     "duration": 0.060188,
     "end_time": "2021-06-07T06:02:22.925081",
     "exception": false,
     "start_time": "2021-06-07T06:02:22.864893",
     "status": "completed"
    },
    "tags": []
   },
   "outputs": [
    {
     "data": {
      "text/plain": [
       "trestbps    0.016894\n",
       "chol        0.041401\n",
       "thalach     0.027054\n",
       "dtype: float64"
      ]
     },
     "execution_count": 10,
     "metadata": {},
     "output_type": "execute_result"
    }
   ],
   "source": [
    "heart_df['trestbps']=np.log(heart_df['trestbps'])\n",
    "heart_df['chol']=np.log(heart_df['chol'])\n",
    "heart_df['thalach']=np.log(heart_df['thalach'])\n",
    "\n",
    "np.var(heart_df[[\"trestbps\",'chol','thalach']])"
   ]
  },
  {
   "cell_type": "code",
   "execution_count": 11,
   "id": "2dbc12d8",
   "metadata": {
    "id": "q5DmPodOJGzP",
    "outputId": "7c48d082-ba9b-42e9-c83b-0ebd773406a2",
    "papermill": {
     "duration": 0.063331,
     "end_time": "2021-06-07T06:02:23.039941",
     "exception": false,
     "start_time": "2021-06-07T06:02:22.976610",
     "status": "completed"
    },
    "tags": []
   },
   "outputs": [
    {
     "data": {
      "text/plain": [
       "age         0\n",
       "sex         0\n",
       "cp          0\n",
       "trestbps    0\n",
       "chol        0\n",
       "fbs         0\n",
       "restecg     0\n",
       "thalach     0\n",
       "exang       0\n",
       "oldpeak     0\n",
       "slope       0\n",
       "ca          0\n",
       "thal        0\n",
       "target      0\n",
       "dtype: int64"
      ]
     },
     "execution_count": 11,
     "metadata": {},
     "output_type": "execute_result"
    }
   ],
   "source": [
    "heart_df.isnull().sum()"
   ]
  },
  {
   "cell_type": "code",
   "execution_count": 12,
   "id": "44e3d0fd",
   "metadata": {
    "id": "AREDnyJPJS4q",
    "papermill": {
     "duration": 0.052308,
     "end_time": "2021-06-07T06:02:23.136594",
     "exception": false,
     "start_time": "2021-06-07T06:02:23.084286",
     "status": "completed"
    },
    "tags": []
   },
   "outputs": [],
   "source": [
    "x=heart_df.drop('target',axis=1)    \n",
    "y=heart_df['target']"
   ]
  },
  {
   "cell_type": "code",
   "execution_count": 13,
   "id": "1c72047d",
   "metadata": {
    "id": "cyCXAPHKJNYu",
    "papermill": {
     "duration": 0.11563,
     "end_time": "2021-06-07T06:02:23.296843",
     "exception": false,
     "start_time": "2021-06-07T06:02:23.181213",
     "status": "completed"
    },
    "tags": []
   },
   "outputs": [],
   "source": [
    "#spliting the dataset\n",
    "from sklearn.model_selection import train_test_split\n",
    "x_train,x_test,y_train,y_test = train_test_split(x, y, test_size=0.30, random_state=0)"
   ]
  },
  {
   "cell_type": "code",
   "execution_count": 14,
   "id": "82907dda-6099-4351-800e-9554913ef3ce",
   "metadata": {},
   "outputs": [
    {
     "name": "stdout",
     "output_type": "stream",
     "text": [
      "<class 'pandas.core.frame.DataFrame'>\n",
      "RangeIndex: 303 entries, 0 to 302\n",
      "Data columns (total 13 columns):\n",
      " #   Column    Non-Null Count  Dtype  \n",
      "---  ------    --------------  -----  \n",
      " 0   age       303 non-null    int64  \n",
      " 1   sex       303 non-null    int64  \n",
      " 2   cp        303 non-null    int64  \n",
      " 3   trestbps  303 non-null    float64\n",
      " 4   chol      303 non-null    float64\n",
      " 5   fbs       303 non-null    int64  \n",
      " 6   restecg   303 non-null    int64  \n",
      " 7   thalach   303 non-null    float64\n",
      " 8   exang     303 non-null    int64  \n",
      " 9   oldpeak   303 non-null    float64\n",
      " 10  slope     303 non-null    int64  \n",
      " 11  ca        303 non-null    int64  \n",
      " 12  thal      303 non-null    int64  \n",
      "dtypes: float64(4), int64(9)\n",
      "memory usage: 30.9 KB\n"
     ]
    }
   ],
   "source": [
    "x.info()"
   ]
  },
  {
   "cell_type": "markdown",
   "id": "996fd34d",
   "metadata": {
    "id": "gTJe9XHjXvoa",
    "papermill": {
     "duration": 0.044152,
     "end_time": "2021-06-07T06:02:23.386336",
     "exception": false,
     "start_time": "2021-06-07T06:02:23.342184",
     "status": "completed"
    },
    "tags": []
   },
   "source": [
    "# Logistic Regression"
   ]
  },
  {
   "cell_type": "code",
   "execution_count": 15,
   "id": "13a31f2b",
   "metadata": {
    "id": "EjL4q4KGJlyx",
    "outputId": "8717186a-7c2f-4812-ded7-e280796ee438",
    "papermill": {
     "duration": 0.184053,
     "end_time": "2021-06-07T06:02:23.614932",
     "exception": false,
     "start_time": "2021-06-07T06:02:23.430879",
     "status": "completed"
    },
    "tags": []
   },
   "outputs": [
    {
     "name": "stdout",
     "output_type": "stream",
     "text": [
      "Training accuracy score of the model is: 85.37735849056604 %\n",
      "Testing accuracy score of the model is: 80.21978021978022 %\n"
     ]
    }
   ],
   "source": [
    "accuracies={}\n",
    "\n",
    "from sklearn.linear_model import LogisticRegression\n",
    "from sklearn.metrics import accuracy_score,confusion_matrix,classification_report\n",
    "lr = LogisticRegression(penalty='l2')\n",
    "lr.fit(x_train,y_train)\n",
    "\n",
    "y_pred = lr.predict(x_test)\n",
    "\n",
    "acc=accuracy_score(y_test,y_pred)\n",
    "accuracies['LR']=acc*100\n",
    "print(\"Training accuracy score of the model is:\",accuracy_score(y_train, lr.predict(x_train))*100,\"%\")\n",
    "print(\"Testing accuracy score of the model is:\",accuracy_score(y_test,y_pred)*100,\"%\")"
   ]
  },
  {
   "cell_type": "code",
   "execution_count": 16,
   "id": "a38ab40b",
   "metadata": {
    "papermill": {
     "duration": 0.062276,
     "end_time": "2021-06-07T06:02:23.723699",
     "exception": false,
     "start_time": "2021-06-07T06:02:23.661423",
     "status": "completed"
    },
    "tags": []
   },
   "outputs": [
    {
     "name": "stdout",
     "output_type": "stream",
     "text": [
      "Confusion matrix of the model [[32 12]\n",
      " [ 6 41]]\n",
      "Classification Report               precision    recall  f1-score   support\n",
      "\n",
      "           0       0.84      0.73      0.78        44\n",
      "           1       0.77      0.87      0.82        47\n",
      "\n",
      "    accuracy                           0.80        91\n",
      "   macro avg       0.81      0.80      0.80        91\n",
      "weighted avg       0.81      0.80      0.80        91\n",
      "\n"
     ]
    }
   ],
   "source": [
    "print(\"Confusion matrix of the model\",confusion_matrix(y_test,y_pred))\n",
    "\n",
    "print(\"Classification Report\",classification_report(y_test,y_pred))"
   ]
  },
  {
   "cell_type": "markdown",
   "id": "9e4d4815",
   "metadata": {
    "id": "oJfpfHMcX1U8",
    "papermill": {
     "duration": 0.04514,
     "end_time": "2021-06-07T06:02:23.814510",
     "exception": false,
     "start_time": "2021-06-07T06:02:23.769370",
     "status": "completed"
    },
    "tags": []
   },
   "source": [
    "# KNearestNeighbors"
   ]
  },
  {
   "cell_type": "code",
   "execution_count": 17,
   "id": "f8d5d1ed",
   "metadata": {
    "id": "byoDY8S0KNUP",
    "outputId": "1dde0075-e8f7-42cc-b53f-b865b26f2a46",
    "papermill": {
     "duration": 0.151457,
     "end_time": "2021-06-07T06:02:24.013714",
     "exception": false,
     "start_time": "2021-06-07T06:02:23.862257",
     "status": "completed"
    },
    "tags": []
   },
   "outputs": [
    {
     "name": "stdout",
     "output_type": "stream",
     "text": [
      "Training accuracy score of the model is: 85.84905660377359 %\n",
      "Testing accuracy score of the model is: 75.82417582417582 %\n"
     ]
    }
   ],
   "source": [
    "from sklearn.neighbors import KNeighborsClassifier\n",
    "knn=KNeighborsClassifier(n_neighbors=8)\n",
    "\n",
    "knn.fit(x_train,y_train)\n",
    "\n",
    "y_pred1 = knn.predict(x_test)\n",
    "\n",
    "acc1=accuracy_score(y_test,y_pred1)\n",
    "accuracies['KNN']=acc1*100\n",
    "\n",
    "print(\"Training accuracy score of the model is:\",accuracy_score(y_train, knn.predict(x_train))*100,\"%\")\n",
    "print(\"Testing accuracy score of the model is:\",accuracy_score(y_test,y_pred1)*100,\"%\")"
   ]
  },
  {
   "cell_type": "code",
   "execution_count": 18,
   "id": "409a0341",
   "metadata": {
    "papermill": {
     "duration": 0.061833,
     "end_time": "2021-06-07T06:02:24.122252",
     "exception": false,
     "start_time": "2021-06-07T06:02:24.060419",
     "status": "completed"
    },
    "tags": []
   },
   "outputs": [
    {
     "name": "stdout",
     "output_type": "stream",
     "text": [
      "Confusion matrix of the model [[29 15]\n",
      " [ 7 40]]\n",
      "Classification Report               precision    recall  f1-score   support\n",
      "\n",
      "           0       0.81      0.66      0.73        44\n",
      "           1       0.73      0.85      0.78        47\n",
      "\n",
      "    accuracy                           0.76        91\n",
      "   macro avg       0.77      0.76      0.75        91\n",
      "weighted avg       0.77      0.76      0.76        91\n",
      "\n"
     ]
    }
   ],
   "source": [
    "print(\"Confusion matrix of the model\",confusion_matrix(y_test,y_pred1))\n",
    "\n",
    "print(\"Classification Report\",classification_report(y_test,y_pred1))"
   ]
  },
  {
   "cell_type": "markdown",
   "id": "6e11ad2a",
   "metadata": {
    "id": "O5Q8CJgmYuzL",
    "papermill": {
     "duration": 0.046634,
     "end_time": "2021-06-07T06:02:24.542721",
     "exception": false,
     "start_time": "2021-06-07T06:02:24.496087",
     "status": "completed"
    },
    "tags": []
   },
   "source": [
    "# Decision Tree"
   ]
  },
  {
   "cell_type": "code",
   "execution_count": 19,
   "id": "4aac495a",
   "metadata": {
    "id": "0zHn1WdXOIOe",
    "outputId": "0334b599-6db8-4f1e-c56c-13f11c74ec65",
    "papermill": {
     "duration": 0.106264,
     "end_time": "2021-06-07T06:02:24.695887",
     "exception": false,
     "start_time": "2021-06-07T06:02:24.589623",
     "status": "completed"
    },
    "tags": []
   },
   "outputs": [
    {
     "name": "stdout",
     "output_type": "stream",
     "text": [
      "Training accuracy score of the model is: 100.0 %\n",
      "Testing accuracy score of the model is: 71.42857142857143 %\n"
     ]
    }
   ],
   "source": [
    "from sklearn.tree import DecisionTreeClassifier\n",
    "\n",
    "dtc = DecisionTreeClassifier()\n",
    "dtc.fit(x_train, y_train)\n",
    "\n",
    "y_pred3 = dtc.predict(x_test)\n",
    "\n",
    "acc3=accuracy_score(y_test,y_pred3)\n",
    "accuracies['DT']=acc3*100\n",
    "\n",
    "print(\"Training accuracy score of the model is:\",accuracy_score(y_train, dtc.predict(x_train))*100,\"%\")\n",
    "print(\"Testing accuracy score of the model is:\",accuracy_score(y_test,y_pred3)*100,\"%\")"
   ]
  },
  {
   "cell_type": "code",
   "execution_count": 20,
   "id": "d2bf286e",
   "metadata": {
    "papermill": {
     "duration": 0.06357,
     "end_time": "2021-06-07T06:02:24.807555",
     "exception": false,
     "start_time": "2021-06-07T06:02:24.743985",
     "status": "completed"
    },
    "tags": []
   },
   "outputs": [
    {
     "name": "stdout",
     "output_type": "stream",
     "text": [
      "Confusion matrix of the model [[32 12]\n",
      " [14 33]]\n",
      "Classification Report               precision    recall  f1-score   support\n",
      "\n",
      "           0       0.70      0.73      0.71        44\n",
      "           1       0.73      0.70      0.72        47\n",
      "\n",
      "    accuracy                           0.71        91\n",
      "   macro avg       0.71      0.71      0.71        91\n",
      "weighted avg       0.72      0.71      0.71        91\n",
      "\n"
     ]
    }
   ],
   "source": [
    "print(\"Confusion matrix of the model\",confusion_matrix(y_test,y_pred3))\n",
    "\n",
    "print(\"Classification Report\",classification_report(y_test,y_pred3))"
   ]
  },
  {
   "cell_type": "code",
   "execution_count": 21,
   "id": "5c4c6d59",
   "metadata": {
    "id": "3RyAydBrOt2U",
    "outputId": "2c5c1183-462f-410e-97d9-a6980a7d3302",
    "papermill": {
     "duration": 8.805362,
     "end_time": "2021-06-07T06:02:33.661971",
     "exception": false,
     "start_time": "2021-06-07T06:02:24.856609",
     "status": "completed"
    },
    "tags": []
   },
   "outputs": [
    {
     "name": "stdout",
     "output_type": "stream",
     "text": [
      "Fitting 10 folds for each of 8640 candidates, totalling 86400 fits\n"
     ]
    },
    {
     "data": {
      "text/html": [
       "<style>#sk-container-id-1 {color: black;}#sk-container-id-1 pre{padding: 0;}#sk-container-id-1 div.sk-toggleable {background-color: white;}#sk-container-id-1 label.sk-toggleable__label {cursor: pointer;display: block;width: 100%;margin-bottom: 0;padding: 0.3em;box-sizing: border-box;text-align: center;}#sk-container-id-1 label.sk-toggleable__label-arrow:before {content: \"▸\";float: left;margin-right: 0.25em;color: #696969;}#sk-container-id-1 label.sk-toggleable__label-arrow:hover:before {color: black;}#sk-container-id-1 div.sk-estimator:hover label.sk-toggleable__label-arrow:before {color: black;}#sk-container-id-1 div.sk-toggleable__content {max-height: 0;max-width: 0;overflow: hidden;text-align: left;background-color: #f0f8ff;}#sk-container-id-1 div.sk-toggleable__content pre {margin: 0.2em;color: black;border-radius: 0.25em;background-color: #f0f8ff;}#sk-container-id-1 input.sk-toggleable__control:checked~div.sk-toggleable__content {max-height: 200px;max-width: 100%;overflow: auto;}#sk-container-id-1 input.sk-toggleable__control:checked~label.sk-toggleable__label-arrow:before {content: \"▾\";}#sk-container-id-1 div.sk-estimator input.sk-toggleable__control:checked~label.sk-toggleable__label {background-color: #d4ebff;}#sk-container-id-1 div.sk-label input.sk-toggleable__control:checked~label.sk-toggleable__label {background-color: #d4ebff;}#sk-container-id-1 input.sk-hidden--visually {border: 0;clip: rect(1px 1px 1px 1px);clip: rect(1px, 1px, 1px, 1px);height: 1px;margin: -1px;overflow: hidden;padding: 0;position: absolute;width: 1px;}#sk-container-id-1 div.sk-estimator {font-family: monospace;background-color: #f0f8ff;border: 1px dotted black;border-radius: 0.25em;box-sizing: border-box;margin-bottom: 0.5em;}#sk-container-id-1 div.sk-estimator:hover {background-color: #d4ebff;}#sk-container-id-1 div.sk-parallel-item::after {content: \"\";width: 100%;border-bottom: 1px solid gray;flex-grow: 1;}#sk-container-id-1 div.sk-label:hover label.sk-toggleable__label {background-color: #d4ebff;}#sk-container-id-1 div.sk-serial::before {content: \"\";position: absolute;border-left: 1px solid gray;box-sizing: border-box;top: 0;bottom: 0;left: 50%;z-index: 0;}#sk-container-id-1 div.sk-serial {display: flex;flex-direction: column;align-items: center;background-color: white;padding-right: 0.2em;padding-left: 0.2em;position: relative;}#sk-container-id-1 div.sk-item {position: relative;z-index: 1;}#sk-container-id-1 div.sk-parallel {display: flex;align-items: stretch;justify-content: center;background-color: white;position: relative;}#sk-container-id-1 div.sk-item::before, #sk-container-id-1 div.sk-parallel-item::before {content: \"\";position: absolute;border-left: 1px solid gray;box-sizing: border-box;top: 0;bottom: 0;left: 50%;z-index: -1;}#sk-container-id-1 div.sk-parallel-item {display: flex;flex-direction: column;z-index: 1;position: relative;background-color: white;}#sk-container-id-1 div.sk-parallel-item:first-child::after {align-self: flex-end;width: 50%;}#sk-container-id-1 div.sk-parallel-item:last-child::after {align-self: flex-start;width: 50%;}#sk-container-id-1 div.sk-parallel-item:only-child::after {width: 0;}#sk-container-id-1 div.sk-dashed-wrapped {border: 1px dashed gray;margin: 0 0.4em 0.5em 0.4em;box-sizing: border-box;padding-bottom: 0.4em;background-color: white;}#sk-container-id-1 div.sk-label label {font-family: monospace;font-weight: bold;display: inline-block;line-height: 1.2em;}#sk-container-id-1 div.sk-label-container {text-align: center;}#sk-container-id-1 div.sk-container {/* jupyter's `normalize.less` sets `[hidden] { display: none; }` but bootstrap.min.css set `[hidden] { display: none !important; }` so we also need the `!important` here to be able to override the default hidden behavior on the sphinx rendered scikit-learn.org. See: https://github.com/scikit-learn/scikit-learn/issues/21755 */display: inline-block !important;position: relative;}#sk-container-id-1 div.sk-text-repr-fallback {display: none;}</style><div id=\"sk-container-id-1\" class=\"sk-top-container\"><div class=\"sk-text-repr-fallback\"><pre>GridSearchCV(cv=10, estimator=DecisionTreeClassifier(), n_jobs=-1,\n",
       "             param_grid={&#x27;criterion&#x27;: [&#x27;gini&#x27;, &#x27;entropy&#x27;],\n",
       "                         &#x27;max_depth&#x27;: range(2, 32),\n",
       "                         &#x27;min_samples_leaf&#x27;: range(1, 10),\n",
       "                         &#x27;min_samples_split&#x27;: range(2, 10),\n",
       "                         &#x27;splitter&#x27;: [&#x27;best&#x27;, &#x27;random&#x27;]},\n",
       "             verbose=1)</pre><b>In a Jupyter environment, please rerun this cell to show the HTML representation or trust the notebook. <br />On GitHub, the HTML representation is unable to render, please try loading this page with nbviewer.org.</b></div><div class=\"sk-container\" hidden><div class=\"sk-item sk-dashed-wrapped\"><div class=\"sk-label-container\"><div class=\"sk-label sk-toggleable\"><input class=\"sk-toggleable__control sk-hidden--visually\" id=\"sk-estimator-id-1\" type=\"checkbox\" ><label for=\"sk-estimator-id-1\" class=\"sk-toggleable__label sk-toggleable__label-arrow\">GridSearchCV</label><div class=\"sk-toggleable__content\"><pre>GridSearchCV(cv=10, estimator=DecisionTreeClassifier(), n_jobs=-1,\n",
       "             param_grid={&#x27;criterion&#x27;: [&#x27;gini&#x27;, &#x27;entropy&#x27;],\n",
       "                         &#x27;max_depth&#x27;: range(2, 32),\n",
       "                         &#x27;min_samples_leaf&#x27;: range(1, 10),\n",
       "                         &#x27;min_samples_split&#x27;: range(2, 10),\n",
       "                         &#x27;splitter&#x27;: [&#x27;best&#x27;, &#x27;random&#x27;]},\n",
       "             verbose=1)</pre></div></div></div><div class=\"sk-parallel\"><div class=\"sk-parallel-item\"><div class=\"sk-item\"><div class=\"sk-label-container\"><div class=\"sk-label sk-toggleable\"><input class=\"sk-toggleable__control sk-hidden--visually\" id=\"sk-estimator-id-2\" type=\"checkbox\" ><label for=\"sk-estimator-id-2\" class=\"sk-toggleable__label sk-toggleable__label-arrow\">estimator: DecisionTreeClassifier</label><div class=\"sk-toggleable__content\"><pre>DecisionTreeClassifier()</pre></div></div></div><div class=\"sk-serial\"><div class=\"sk-item\"><div class=\"sk-estimator sk-toggleable\"><input class=\"sk-toggleable__control sk-hidden--visually\" id=\"sk-estimator-id-3\" type=\"checkbox\" ><label for=\"sk-estimator-id-3\" class=\"sk-toggleable__label sk-toggleable__label-arrow\">DecisionTreeClassifier</label><div class=\"sk-toggleable__content\"><pre>DecisionTreeClassifier()</pre></div></div></div></div></div></div></div></div></div></div>"
      ],
      "text/plain": [
       "GridSearchCV(cv=10, estimator=DecisionTreeClassifier(), n_jobs=-1,\n",
       "             param_grid={'criterion': ['gini', 'entropy'],\n",
       "                         'max_depth': range(2, 32),\n",
       "                         'min_samples_leaf': range(1, 10),\n",
       "                         'min_samples_split': range(2, 10),\n",
       "                         'splitter': ['best', 'random']},\n",
       "             verbose=1)"
      ]
     },
     "execution_count": 21,
     "metadata": {},
     "output_type": "execute_result"
    }
   ],
   "source": [
    "from sklearn.model_selection import GridSearchCV\n",
    "\n",
    "grid_params = {\n",
    "    'criterion' : ['gini', 'entropy'],\n",
    "    'max_depth' : range(2, 32, 1),\n",
    "    'min_samples_leaf' : range(1, 10, 1),\n",
    "    'min_samples_split' : range(2, 10, 1),\n",
    "    'splitter' : ['best', 'random']\n",
    "}\n",
    "\n",
    "grid_search = GridSearchCV(dtc, grid_params, cv = 10, n_jobs = -1, verbose = 1)\n",
    "grid_search.fit(x_train, y_train)"
   ]
  },
  {
   "cell_type": "code",
   "execution_count": 26,
   "id": "d528611f",
   "metadata": {
    "id": "Jo8sRbs5O21I",
    "outputId": "2cb8a005-4b6a-4e03-dd8d-cb0f1bf66e9b",
    "papermill": {
     "duration": 0.060404,
     "end_time": "2021-06-07T06:02:33.772069",
     "exception": false,
     "start_time": "2021-06-07T06:02:33.711665",
     "status": "completed"
    },
    "tags": []
   },
   "outputs": [
    {
     "data": {
      "text/plain": [
       "0.8493506493506493"
      ]
     },
     "execution_count": 26,
     "metadata": {},
     "output_type": "execute_result"
    }
   ],
   "source": [
    "grid_search.best_score_"
   ]
  },
  {
   "cell_type": "code",
   "execution_count": 27,
   "id": "4df1231a-6e6e-44a2-a06f-689b7c0064b1",
   "metadata": {},
   "outputs": [
    {
     "data": {
      "text/plain": [
       "{'criterion': 'entropy',\n",
       " 'max_depth': 9,\n",
       " 'min_samples_leaf': 9,\n",
       " 'min_samples_split': 2,\n",
       " 'splitter': 'random'}"
      ]
     },
     "execution_count": 27,
     "metadata": {},
     "output_type": "execute_result"
    }
   ],
   "source": [
    "grid_search.best_params_"
   ]
  },
  {
   "cell_type": "code",
   "execution_count": 28,
   "id": "1887ef7d-9ab3-489b-aa1f-4a14d3e1bbab",
   "metadata": {},
   "outputs": [
    {
     "data": {
      "text/html": [
       "<style>#sk-container-id-3 {color: black;}#sk-container-id-3 pre{padding: 0;}#sk-container-id-3 div.sk-toggleable {background-color: white;}#sk-container-id-3 label.sk-toggleable__label {cursor: pointer;display: block;width: 100%;margin-bottom: 0;padding: 0.3em;box-sizing: border-box;text-align: center;}#sk-container-id-3 label.sk-toggleable__label-arrow:before {content: \"▸\";float: left;margin-right: 0.25em;color: #696969;}#sk-container-id-3 label.sk-toggleable__label-arrow:hover:before {color: black;}#sk-container-id-3 div.sk-estimator:hover label.sk-toggleable__label-arrow:before {color: black;}#sk-container-id-3 div.sk-toggleable__content {max-height: 0;max-width: 0;overflow: hidden;text-align: left;background-color: #f0f8ff;}#sk-container-id-3 div.sk-toggleable__content pre {margin: 0.2em;color: black;border-radius: 0.25em;background-color: #f0f8ff;}#sk-container-id-3 input.sk-toggleable__control:checked~div.sk-toggleable__content {max-height: 200px;max-width: 100%;overflow: auto;}#sk-container-id-3 input.sk-toggleable__control:checked~label.sk-toggleable__label-arrow:before {content: \"▾\";}#sk-container-id-3 div.sk-estimator input.sk-toggleable__control:checked~label.sk-toggleable__label {background-color: #d4ebff;}#sk-container-id-3 div.sk-label input.sk-toggleable__control:checked~label.sk-toggleable__label {background-color: #d4ebff;}#sk-container-id-3 input.sk-hidden--visually {border: 0;clip: rect(1px 1px 1px 1px);clip: rect(1px, 1px, 1px, 1px);height: 1px;margin: -1px;overflow: hidden;padding: 0;position: absolute;width: 1px;}#sk-container-id-3 div.sk-estimator {font-family: monospace;background-color: #f0f8ff;border: 1px dotted black;border-radius: 0.25em;box-sizing: border-box;margin-bottom: 0.5em;}#sk-container-id-3 div.sk-estimator:hover {background-color: #d4ebff;}#sk-container-id-3 div.sk-parallel-item::after {content: \"\";width: 100%;border-bottom: 1px solid gray;flex-grow: 1;}#sk-container-id-3 div.sk-label:hover label.sk-toggleable__label {background-color: #d4ebff;}#sk-container-id-3 div.sk-serial::before {content: \"\";position: absolute;border-left: 1px solid gray;box-sizing: border-box;top: 0;bottom: 0;left: 50%;z-index: 0;}#sk-container-id-3 div.sk-serial {display: flex;flex-direction: column;align-items: center;background-color: white;padding-right: 0.2em;padding-left: 0.2em;position: relative;}#sk-container-id-3 div.sk-item {position: relative;z-index: 1;}#sk-container-id-3 div.sk-parallel {display: flex;align-items: stretch;justify-content: center;background-color: white;position: relative;}#sk-container-id-3 div.sk-item::before, #sk-container-id-3 div.sk-parallel-item::before {content: \"\";position: absolute;border-left: 1px solid gray;box-sizing: border-box;top: 0;bottom: 0;left: 50%;z-index: -1;}#sk-container-id-3 div.sk-parallel-item {display: flex;flex-direction: column;z-index: 1;position: relative;background-color: white;}#sk-container-id-3 div.sk-parallel-item:first-child::after {align-self: flex-end;width: 50%;}#sk-container-id-3 div.sk-parallel-item:last-child::after {align-self: flex-start;width: 50%;}#sk-container-id-3 div.sk-parallel-item:only-child::after {width: 0;}#sk-container-id-3 div.sk-dashed-wrapped {border: 1px dashed gray;margin: 0 0.4em 0.5em 0.4em;box-sizing: border-box;padding-bottom: 0.4em;background-color: white;}#sk-container-id-3 div.sk-label label {font-family: monospace;font-weight: bold;display: inline-block;line-height: 1.2em;}#sk-container-id-3 div.sk-label-container {text-align: center;}#sk-container-id-3 div.sk-container {/* jupyter's `normalize.less` sets `[hidden] { display: none; }` but bootstrap.min.css set `[hidden] { display: none !important; }` so we also need the `!important` here to be able to override the default hidden behavior on the sphinx rendered scikit-learn.org. See: https://github.com/scikit-learn/scikit-learn/issues/21755 */display: inline-block !important;position: relative;}#sk-container-id-3 div.sk-text-repr-fallback {display: none;}</style><div id=\"sk-container-id-3\" class=\"sk-top-container\"><div class=\"sk-text-repr-fallback\"><pre>DecisionTreeClassifier(criterion=&#x27;entropy&#x27;, max_depth=12, splitter=&#x27;random&#x27;)</pre><b>In a Jupyter environment, please rerun this cell to show the HTML representation or trust the notebook. <br />On GitHub, the HTML representation is unable to render, please try loading this page with nbviewer.org.</b></div><div class=\"sk-container\" hidden><div class=\"sk-item\"><div class=\"sk-estimator sk-toggleable\"><input class=\"sk-toggleable__control sk-hidden--visually\" id=\"sk-estimator-id-5\" type=\"checkbox\" checked><label for=\"sk-estimator-id-5\" class=\"sk-toggleable__label sk-toggleable__label-arrow\">DecisionTreeClassifier</label><div class=\"sk-toggleable__content\"><pre>DecisionTreeClassifier(criterion=&#x27;entropy&#x27;, max_depth=12, splitter=&#x27;random&#x27;)</pre></div></div></div></div></div>"
      ],
      "text/plain": [
       "DecisionTreeClassifier(criterion='entropy', max_depth=12, splitter='random')"
      ]
     },
     "execution_count": 28,
     "metadata": {},
     "output_type": "execute_result"
    }
   ],
   "source": [
    "dtc2 = DecisionTreeClassifier(criterion= 'entropy', max_depth= 12, min_samples_leaf= 1, min_samples_split= 2, splitter= 'random')\n",
    "dtc2.fit(x_train, y_train)"
   ]
  },
  {
   "cell_type": "code",
   "execution_count": 29,
   "id": "027c45b7",
   "metadata": {
    "id": "H3PzVlvhTbyI",
    "outputId": "3babac07-bef4-4e09-a8a6-5474f650095e",
    "papermill": {
     "duration": 0.064567,
     "end_time": "2021-06-07T06:02:33.886255",
     "exception": false,
     "start_time": "2021-06-07T06:02:33.821688",
     "status": "completed"
    },
    "tags": []
   },
   "outputs": [
    {
     "name": "stdout",
     "output_type": "stream",
     "text": [
      "Training accuracy score of the model is: 100.0 %\n",
      "Testing accuracy score of the model is: 76.92307692307693 %\n"
     ]
    }
   ],
   "source": [
    "y_pred4 = dtc2.predict(x_test)\n",
    "acc4=accuracy_score(y_test,y_pred4)\n",
    "accuracies['DT2']=acc4*100\n",
    "\n",
    "print(\"Training accuracy score of the model is:\",accuracy_score(y_train, dtc2.predict(x_train))*100,\"%\")\n",
    "print(\"Testing accuracy score of the model is:\",accuracy_score(y_test,y_pred4)*100,\"%\")"
   ]
  },
  {
   "cell_type": "code",
   "execution_count": 30,
   "id": "3cc20033",
   "metadata": {
    "papermill": {
     "duration": 0.069501,
     "end_time": "2021-06-07T06:02:34.007076",
     "exception": false,
     "start_time": "2021-06-07T06:02:33.937575",
     "status": "completed"
    },
    "tags": []
   },
   "outputs": [
    {
     "name": "stdout",
     "output_type": "stream",
     "text": [
      "Confusion matrix of the model [[30 14]\n",
      " [ 7 40]]\n",
      "Classification Report               precision    recall  f1-score   support\n",
      "\n",
      "           0       0.81      0.68      0.74        44\n",
      "           1       0.74      0.85      0.79        47\n",
      "\n",
      "    accuracy                           0.77        91\n",
      "   macro avg       0.78      0.77      0.77        91\n",
      "weighted avg       0.77      0.77      0.77        91\n",
      "\n"
     ]
    }
   ],
   "source": [
    "print(\"Confusion matrix of the model\",confusion_matrix(y_test,y_pred4))\n",
    "\n",
    "print(\"Classification Report\",classification_report(y_test,y_pred4))"
   ]
  },
  {
   "cell_type": "code",
   "execution_count": 31,
   "id": "1448a477-c4f1-40c5-90dd-049bbc3113d0",
   "metadata": {},
   "outputs": [],
   "source": [
    "# update dictionary\n",
    "accuracies['DT']=acc4*100\n",
    "del accuracies['DT2']"
   ]
  },
  {
   "cell_type": "markdown",
   "id": "23477313",
   "metadata": {
    "id": "ZUPDDw5HY2A-",
    "papermill": {
     "duration": 0.053214,
     "end_time": "2021-06-07T06:02:34.114815",
     "exception": false,
     "start_time": "2021-06-07T06:02:34.061601",
     "status": "completed"
    },
    "tags": []
   },
   "source": [
    "# Random Forest"
   ]
  },
  {
   "cell_type": "code",
   "execution_count": 32,
   "id": "7a9e106e",
   "metadata": {
    "id": "1W7N0f3JO680",
    "outputId": "b244c330-5729-49c8-f1ff-0c54d1315ac8",
    "papermill": {
     "duration": 0.465611,
     "end_time": "2021-06-07T06:02:34.632736",
     "exception": false,
     "start_time": "2021-06-07T06:02:34.167125",
     "status": "completed"
    },
    "tags": []
   },
   "outputs": [
    {
     "name": "stdout",
     "output_type": "stream",
     "text": [
      "Training accuracy score of the model is: 97.16981132075472 %\n",
      "Testing accuracy score of the model is: 82.41758241758241 %\n"
     ]
    }
   ],
   "source": [
    "from sklearn.ensemble import RandomForestClassifier\n",
    "\n",
    "rfc = RandomForestClassifier(criterion = 'gini', max_depth = 7, max_features = 'sqrt', min_samples_leaf = 2, min_samples_split = 4, n_estimators = 180)\n",
    "rfc.fit(x_train, y_train)\n",
    "\n",
    "y_pred5 = rfc.predict(x_test)\n",
    "\n",
    "acc5=accuracy_score(y_test,y_pred5)\n",
    "accuracies['RF']=acc5*100\n",
    "\n",
    "print(\"Training accuracy score of the model is:\",accuracy_score(y_train, rfc.predict(x_train))*100,\"%\")\n",
    "print(\"Testing accuracy score of the model is:\",accuracy_score(y_test,y_pred5)*100,\"%\")"
   ]
  },
  {
   "cell_type": "code",
   "execution_count": 33,
   "id": "7f85e8c1",
   "metadata": {
    "papermill": {
     "duration": 0.067344,
     "end_time": "2021-06-07T06:02:34.754967",
     "exception": false,
     "start_time": "2021-06-07T06:02:34.687623",
     "status": "completed"
    },
    "tags": []
   },
   "outputs": [
    {
     "name": "stdout",
     "output_type": "stream",
     "text": [
      "Confusion matrix of the model [[33 11]\n",
      " [ 5 42]]\n",
      "Classification Report               precision    recall  f1-score   support\n",
      "\n",
      "           0       0.87      0.75      0.80        44\n",
      "           1       0.79      0.89      0.84        47\n",
      "\n",
      "    accuracy                           0.82        91\n",
      "   macro avg       0.83      0.82      0.82        91\n",
      "weighted avg       0.83      0.82      0.82        91\n",
      "\n"
     ]
    }
   ],
   "source": [
    "print(\"Confusion matrix of the model\",confusion_matrix(y_test,y_pred5))\n",
    "\n",
    "print(\"Classification Report\",classification_report(y_test,y_pred5))"
   ]
  },
  {
   "cell_type": "code",
   "execution_count": 34,
   "id": "a10eeaad",
   "metadata": {},
   "outputs": [
    {
     "data": {
      "text/html": [
       "<div>\n",
       "<style scoped>\n",
       "    .dataframe tbody tr th:only-of-type {\n",
       "        vertical-align: middle;\n",
       "    }\n",
       "\n",
       "    .dataframe tbody tr th {\n",
       "        vertical-align: top;\n",
       "    }\n",
       "\n",
       "    .dataframe thead th {\n",
       "        text-align: right;\n",
       "    }\n",
       "</style>\n",
       "<table border=\"1\" class=\"dataframe\">\n",
       "  <thead>\n",
       "    <tr style=\"text-align: right;\">\n",
       "      <th></th>\n",
       "      <th>Model</th>\n",
       "      <th>Score</th>\n",
       "    </tr>\n",
       "  </thead>\n",
       "  <tbody>\n",
       "    <tr>\n",
       "      <th>3</th>\n",
       "      <td>Random Forest</td>\n",
       "      <td>0.824176</td>\n",
       "    </tr>\n",
       "    <tr>\n",
       "      <th>0</th>\n",
       "      <td>Logistic Regression</td>\n",
       "      <td>0.802198</td>\n",
       "    </tr>\n",
       "    <tr>\n",
       "      <th>2</th>\n",
       "      <td>Decision Tree</td>\n",
       "      <td>0.769231</td>\n",
       "    </tr>\n",
       "    <tr>\n",
       "      <th>1</th>\n",
       "      <td>KNN</td>\n",
       "      <td>0.758242</td>\n",
       "    </tr>\n",
       "  </tbody>\n",
       "</table>\n",
       "</div>"
      ],
      "text/plain": [
       "                 Model     Score\n",
       "3        Random Forest  0.824176\n",
       "0  Logistic Regression  0.802198\n",
       "2        Decision Tree  0.769231\n",
       "1                  KNN  0.758242"
      ]
     },
     "execution_count": 34,
     "metadata": {},
     "output_type": "execute_result"
    }
   ],
   "source": [
    "models = pd.DataFrame({\n",
    "    'Model': ['Logistic Regression', 'KNN',  'Decision Tree', 'Random Forest'],\n",
    "    'Score': [acc, acc1, acc4, acc5]\n",
    "})\n",
    "\n",
    "models.sort_values(by = 'Score', ascending = False)"
   ]
  },
  {
   "cell_type": "code",
   "execution_count": 35,
   "id": "3ab56ed9",
   "metadata": {},
   "outputs": [],
   "source": [
    "import pickle\n",
    "model = rfc\n",
    "pickle.dump(model, open(\"heart.pkl\",'wb'))"
   ]
  },
  {
   "cell_type": "code",
   "execution_count": 57,
   "id": "3ac35300",
   "metadata": {},
   "outputs": [
    {
     "data": {
      "image/png": "[encoded data removed]",
      "text/plain": [
       "<Figure size 800x500 with 1 Axes>"
      ]
     },
     "metadata": {},
     "output_type": "display_data"
    }
   ],
   "source": [
    "import numpy as np\n",
    "import pandas as pd\n",
    "import matplotlib.pyplot as plt\n",
    "from sklearn.model_selection import train_test_split\n",
    "from sklearn.linear_model import LogisticRegression\n",
    "from sklearn.tree import DecisionTreeClassifier\n",
    "from sklearn.neighbors import KNeighborsClassifier\n",
    "from sklearn.ensemble import RandomForestClassifier\n",
    "from sklearn import metrics\n",
    "\n",
    "# Load dataset\n",
    "df = pd.read_csv(\"heart.csv\")\n",
    "\n",
    "# Assuming 'target' column is the label, modify based on your dataset structure\n",
    "X = df.drop(columns=[\"target\"])  \n",
    "y = df[\"target\"]\n",
    "\n",
    "# Split dataset into training and testing sets\n",
    "X_train, X_test, y_train, y_test = train_test_split(X, y, test_size=0.2, random_state=42)\n",
    "\n",
    "# Define models\n",
    "models = {\n",
    "    'LR': LogisticRegression(),\n",
    "    'DT': DecisionTreeClassifier(),\n",
    "    'KNN': KNeighborsClassifier(),\n",
    "    'RF': RandomForestClassifier()\n",
    "}\n",
    "\n",
    "# Train models & calculate accuracy\n",
    "means_accuracy = []\n",
    "for label, model in models.items():\n",
    "    model.fit(X_train, y_train)\n",
    "    y_pred = model.predict(X_test)\n",
    "    acc = 100 * round(metrics.accuracy_score(y_test, y_pred), 4)  # Convert to percentage\n",
    "    means_accuracy.append(acc)\n",
    "\n",
    "# Data to plot\n",
    "n_groups = len(models)  # Number of models\n",
    "index = np.arange(n_groups)  # Properly set index\n",
    "\n",
    "# Create plot\n",
    "fig, ax = plt.subplots(figsize=(8, 5))\n",
    "bar_width = 0.35\n",
    "opacity = 0.8\n",
    "\n",
    "plt.bar(index, means_accuracy, bar_width, alpha=opacity, color='mediumpurple', label='Accuracy (%)')\n",
    "\n",
    "plt.xlim([-1, n_groups])  # Dynamic limits\n",
    "plt.ylim([60, 105])  # Set y-axis range\n",
    "plt.title('Performance Evaluation - Heart Disease Prediction', fontsize=12)\n",
    "plt.xticks(index, list(models.keys()), rotation=40, ha='center', fontsize=12)\n",
    "plt.legend(loc=\"upper right\", fontsize=10)\n",
    "plt.savefig(\"PE_heart.jpeg\", format='jpeg', dpi=400, bbox_inches='tight')\n",
    "plt.show()"
   ]
  },
  {
   "cell_type": "code",
   "execution_count": 55,
   "id": "63cbeb97",
   "metadata": {},
   "outputs": [
    {
     "name": "stdout",
     "output_type": "stream",
     "text": [
      "[88.52, 81.97, 68.85, 83.61]\n"
     ]
    }
   ],
   "source": [
    "print(means_accuracy)"
   ]
  },
  {
   "cell_type": "code",
   "execution_count": null,
   "id": "56884eba",
   "metadata": {},
   "outputs": [],
   "source": []
  },
  {
   "cell_type": "code",
   "execution_count": null,
   "id": "26dd11e6",
   "metadata": {},
   "outputs": [],
   "source": []
  },
  {
   "cell_type": "code",
   "execution_count": null,
   "id": "b52d5b3a",
   "metadata": {},
   "outputs": [],
   "source": []
  },
  {
   "cell_type": "code",
   "execution_count": null,
   "id": "a3fcfd70",
   "metadata": {},
   "outputs": [],
   "source": []
  }
 ],
 "metadata": {
  "kernelspec": {
   "display_name": "Python [conda env:base] *",
   "language": "python",
   "name": "conda-base-py"
  },
  "language_info": {
   "codemirror_mode": {
    "name": "ipython",
    "version": 3
   },
   "file_extension": ".py",
   "mimetype": "text/x-python",
   "name": "python",
   "nbconvert_exporter": "python",
   "pygments_lexer": "ipython3",
   "version": "3.12.7"
  },
  "papermill": {
   "default_parameters": {},
   "duration": 39.868761,
   "end_time": "2021-06-07T06:02:48.282511",
   "environment_variables": {},
   "exception": null,
   "input_path": "__notebook__.ipynb",
   "output_path": "__notebook__.ipynb",
   "parameters": {},
   "start_time": "2021-06-07T06:02:08.413750",
   "version": "2.3.3"
  }
 },
 "nbformat": 4,
 "nbformat_minor": 5
}
